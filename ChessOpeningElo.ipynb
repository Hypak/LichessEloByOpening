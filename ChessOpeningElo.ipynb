{
 "cells": [
  {
   "cell_type": "code",
   "execution_count": 1,
   "metadata": {},
   "outputs": [],
   "source": [
    "import os\n",
    "import tqdm\n",
    "import math\n",
    "import numpy"
   ]
  },
  {
   "cell_type": "code",
   "execution_count": 54,
   "metadata": {},
   "outputs": [],
   "source": [
    "def get_moves(lines, is_white):\n",
    "    s = \"\"\n",
    "    moves = []\n",
    "    for line in lines:\n",
    "        s += line\n",
    "    if is_white:\n",
    "        start = 1\n",
    "    else:\n",
    "        start = 2\n",
    "    split = s.split(' ')\n",
    "    for i in range(start, len(split), 3):\n",
    "        moves.append(\" \".join(split[:i+1]))\n",
    "    return moves\n"
   ]
  },
  {
   "cell_type": "code",
   "execution_count": 66,
   "metadata": {},
   "outputs": [
    {
     "name": "stderr",
     "output_type": "stream",
     "text": [
      "\r",
      "  0%|          | 0/90 [00:00<?, ?it/s]"
     ]
    },
    {
     "name": "stdout",
     "output_type": "stream",
     "text": [
      "lichess_elite_2017-05.pgn\n"
     ]
    },
    {
     "name": "stderr",
     "output_type": "stream",
     "text": [
      "\r",
      "  1%|          | 1/90 [00:00<00:35,  2.50it/s]"
     ]
    },
    {
     "name": "stdout",
     "output_type": "stream",
     "text": [
      "lichess_elite_2014-08.pgn\n",
      "lichess_elite_2021-03.pgn\n"
     ]
    },
    {
     "name": "stderr",
     "output_type": "stream",
     "text": [
      "  4%|▍         | 4/90 [00:11<04:05,  2.86s/it]"
     ]
    },
    {
     "name": "stdout",
     "output_type": "stream",
     "text": [
      "lichess_elite_2018-07.pgn\n",
      "lichess_elite_2019-06.pgn\n"
     ]
    },
    {
     "name": "stderr",
     "output_type": "stream",
     "text": [
      "\r",
      "  6%|▌         | 5/90 [00:12<03:19,  2.34s/it]"
     ]
    },
    {
     "name": "stdout",
     "output_type": "stream",
     "text": [
      "lichess_elite_2016-04.pgn\n"
     ]
    },
    {
     "name": "stderr",
     "output_type": "stream",
     "text": [
      "\r",
      "  7%|▋         | 6/90 [00:13<02:23,  1.70s/it]"
     ]
    },
    {
     "name": "stdout",
     "output_type": "stream",
     "text": [
      "lichess_elite_2014-09.pgn\n",
      "lichess_elite_2017-04.pgn\n"
     ]
    },
    {
     "name": "stderr",
     "output_type": "stream",
     "text": [
      "\r",
      "  9%|▉         | 8/90 [00:13<01:19,  1.03it/s]"
     ]
    },
    {
     "name": "stdout",
     "output_type": "stream",
     "text": [
      "1 - READ ME.txt\n",
      "lichess_elite_2019-05.pgn\n"
     ]
    },
    {
     "name": "stderr",
     "output_type": "stream",
     "text": [
      " 12%|█▏        | 11/90 [00:15<00:59,  1.33it/s]"
     ]
    },
    {
     "name": "stdout",
     "output_type": "stream",
     "text": [
      "lichess_elite_2018-09.pgn\n",
      "lichess_elite_2014-04.pgn\n",
      "lichess_elite_2015-05.pgn\n",
      "lichess_elite_2015-10.pgn\n",
      "lichess_elite_2016-05.pgn\n"
     ]
    },
    {
     "name": "stderr",
     "output_type": "stream",
     "text": [
      "\r",
      " 17%|█▋        | 15/90 [00:15<00:30,  2.49it/s]"
     ]
    },
    {
     "name": "stdout",
     "output_type": "stream",
     "text": [
      "lichess_elite_2018-04.pgn\n"
     ]
    },
    {
     "name": "stderr",
     "output_type": "stream",
     "text": [
      " 19%|█▉        | 17/90 [00:16<00:30,  2.43it/s]"
     ]
    },
    {
     "name": "stdout",
     "output_type": "stream",
     "text": [
      "lichess_elite_2016-12.pgn\n",
      "lichess_elite_2018-08.pgn\n"
     ]
    },
    {
     "name": "stderr",
     "output_type": "stream",
     "text": [
      " 22%|██▏       | 20/90 [00:18<00:28,  2.44it/s]"
     ]
    },
    {
     "name": "stdout",
     "output_type": "stream",
     "text": [
      "lichess_elite_2017-01.pgn\n",
      "lichess_elite_2016-03.pgn\n",
      "lichess_elite_2020-08.pgn\n"
     ]
    },
    {
     "name": "stderr",
     "output_type": "stream",
     "text": [
      "\r",
      " 23%|██▎       | 21/90 [00:25<02:28,  2.15s/it]"
     ]
    },
    {
     "name": "stdout",
     "output_type": "stream",
     "text": [
      "lichess_elite_2021-01.pgn\n"
     ]
    },
    {
     "name": "stderr",
     "output_type": "stream",
     "text": [
      "\r",
      " 24%|██▍       | 22/90 [00:34<04:45,  4.21s/it]"
     ]
    },
    {
     "name": "stdout",
     "output_type": "stream",
     "text": [
      "lichess_elite_2015-02.pgn\n",
      "lichess_elite_2020-06.pgn\n"
     ]
    },
    {
     "name": "stderr",
     "output_type": "stream",
     "text": [
      "\r",
      " 27%|██▋       | 24/90 [00:42<04:28,  4.07s/it]"
     ]
    },
    {
     "name": "stdout",
     "output_type": "stream",
     "text": [
      "lichess_elite_2017-12.pgn\n"
     ]
    },
    {
     "name": "stderr",
     "output_type": "stream",
     "text": [
      "\r",
      " 28%|██▊       | 25/90 [00:43<03:29,  3.23s/it]"
     ]
    },
    {
     "name": "stdout",
     "output_type": "stream",
     "text": [
      "lichess_elite_2019-04.pgn\n"
     ]
    },
    {
     "name": "stderr",
     "output_type": "stream",
     "text": [
      "\r",
      " 29%|██▉       | 26/90 [00:43<02:49,  2.64s/it]"
     ]
    },
    {
     "name": "stdout",
     "output_type": "stream",
     "text": [
      "lichess_elite_2020-04.pgn\n"
     ]
    },
    {
     "name": "stderr",
     "output_type": "stream",
     "text": [
      "\r",
      " 30%|███       | 27/90 [00:51<04:07,  3.93s/it]"
     ]
    },
    {
     "name": "stdout",
     "output_type": "stream",
     "text": [
      "lichess_elite_2015-04.pgn\n",
      "lichess_elite_2015-09.pgn\n",
      "lichess_elite_2013-11.pgn\n",
      "lichess_elite_2019-08.pgn\n"
     ]
    },
    {
     "name": "stderr",
     "output_type": "stream",
     "text": [
      "\r",
      " 34%|███▍      | 31/90 [00:53<01:48,  1.84s/it]"
     ]
    },
    {
     "name": "stdout",
     "output_type": "stream",
     "text": [
      "lichess_elite_2018-02.pgn\n"
     ]
    },
    {
     "name": "stderr",
     "output_type": "stream",
     "text": [
      "\r",
      " 36%|███▌      | 32/90 [00:53<01:32,  1.60s/it]"
     ]
    },
    {
     "name": "stdout",
     "output_type": "stream",
     "text": [
      "lichess_elite_2017-08.pgn\n"
     ]
    },
    {
     "name": "stderr",
     "output_type": "stream",
     "text": [
      "\r",
      " 37%|███▋      | 33/90 [00:54<01:17,  1.36s/it]"
     ]
    },
    {
     "name": "stdout",
     "output_type": "stream",
     "text": [
      "lichess_elite_2020-05.pgn\n"
     ]
    },
    {
     "name": "stderr",
     "output_type": "stream",
     "text": [
      " 39%|███▉      | 35/90 [01:00<01:44,  1.90s/it]"
     ]
    },
    {
     "name": "stdout",
     "output_type": "stream",
     "text": [
      "lichess_elite_2016-01.pgn\n",
      "lichess_elite_2018-11.pgn\n"
     ]
    },
    {
     "name": "stderr",
     "output_type": "stream",
     "text": [
      "\r",
      " 40%|████      | 36/90 [01:01<01:26,  1.61s/it]"
     ]
    },
    {
     "name": "stdout",
     "output_type": "stream",
     "text": [
      "lichess_elite_2019-02.pgn\n"
     ]
    },
    {
     "name": "stderr",
     "output_type": "stream",
     "text": [
      "\r",
      " 41%|████      | 37/90 [01:02<01:13,  1.39s/it]"
     ]
    },
    {
     "name": "stdout",
     "output_type": "stream",
     "text": [
      "lichess_elite_2016-07.pgn\n"
     ]
    },
    {
     "name": "stderr",
     "output_type": "stream",
     "text": [
      "\r",
      " 42%|████▏     | 38/90 [01:02<00:59,  1.14s/it]"
     ]
    },
    {
     "name": "stdout",
     "output_type": "stream",
     "text": [
      "lichess_elite_2018-06.pgn\n"
     ]
    },
    {
     "name": "stderr",
     "output_type": "stream",
     "text": [
      "\r",
      " 43%|████▎     | 39/90 [01:03<00:50,  1.01it/s]"
     ]
    },
    {
     "name": "stdout",
     "output_type": "stream",
     "text": [
      "lichess_elite_2014-01.pgn\n",
      "lichess_elite_2017-02.pgn\n"
     ]
    },
    {
     "name": "stderr",
     "output_type": "stream",
     "text": [
      "\r",
      " 46%|████▌     | 41/90 [01:03<00:31,  1.58it/s]"
     ]
    },
    {
     "name": "stdout",
     "output_type": "stream",
     "text": [
      "lichess_elite_2017-07.pgn\n"
     ]
    },
    {
     "name": "stderr",
     "output_type": "stream",
     "text": [
      "\r",
      " 47%|████▋     | 42/90 [01:04<00:27,  1.73it/s]"
     ]
    },
    {
     "name": "stdout",
     "output_type": "stream",
     "text": [
      "lichess_elite_2014-07.pgn\n",
      "lichess_elite_2020-11.pgn\n"
     ]
    },
    {
     "name": "stderr",
     "output_type": "stream",
     "text": [
      "\r",
      " 49%|████▉     | 44/90 [01:11<01:30,  1.96s/it]"
     ]
    },
    {
     "name": "stdout",
     "output_type": "stream",
     "text": [
      "lichess_elite_2017-11.pgn\n"
     ]
    },
    {
     "name": "stderr",
     "output_type": "stream",
     "text": [
      "\r",
      " 50%|█████     | 45/90 [01:12<01:12,  1.61s/it]"
     ]
    },
    {
     "name": "stdout",
     "output_type": "stream",
     "text": [
      "lichess_elite_2018-03.pgn\n"
     ]
    },
    {
     "name": "stderr",
     "output_type": "stream",
     "text": [
      "\r",
      " 51%|█████     | 46/90 [01:12<00:59,  1.35s/it]"
     ]
    },
    {
     "name": "stdout",
     "output_type": "stream",
     "text": [
      "lichess_elite_2016-11.pgn\n"
     ]
    },
    {
     "name": "stderr",
     "output_type": "stream",
     "text": [
      "\r",
      " 52%|█████▏    | 47/90 [01:13<00:48,  1.12s/it]"
     ]
    },
    {
     "name": "stdout",
     "output_type": "stream",
     "text": [
      "lichess_elite_2018-05.pgn\n"
     ]
    },
    {
     "name": "stderr",
     "output_type": "stream",
     "text": [
      "\r",
      " 53%|█████▎    | 48/90 [01:13<00:40,  1.04it/s]"
     ]
    },
    {
     "name": "stdout",
     "output_type": "stream",
     "text": [
      "lichess_elite_2019-11.pgn\n"
     ]
    },
    {
     "name": "stderr",
     "output_type": "stream",
     "text": [
      "\r",
      " 54%|█████▍    | 49/90 [01:16<01:00,  1.46s/it]"
     ]
    },
    {
     "name": "stdout",
     "output_type": "stream",
     "text": [
      "lichess_elite_2020-10.pgn\n"
     ]
    },
    {
     "name": "stderr",
     "output_type": "stream",
     "text": [
      "\r",
      " 56%|█████▌    | 50/90 [01:23<02:04,  3.12s/it]"
     ]
    },
    {
     "name": "stdout",
     "output_type": "stream",
     "text": [
      "lichess_elite_2020-07.pgn\n"
     ]
    },
    {
     "name": "stderr",
     "output_type": "stream",
     "text": [
      "\r",
      " 57%|█████▋    | 51/90 [01:31<02:56,  4.52s/it]"
     ]
    },
    {
     "name": "stdout",
     "output_type": "stream",
     "text": [
      "lichess_elite_2019-01.pgn\n"
     ]
    },
    {
     "name": "stderr",
     "output_type": "stream",
     "text": [
      "\r",
      " 58%|█████▊    | 52/90 [01:32<02:11,  3.46s/it]"
     ]
    },
    {
     "name": "stdout",
     "output_type": "stream",
     "text": [
      "lichess_elite_2018-10.pgn\n"
     ]
    },
    {
     "name": "stderr",
     "output_type": "stream",
     "text": [
      "\r",
      " 59%|█████▉    | 53/90 [01:33<01:38,  2.67s/it]"
     ]
    },
    {
     "name": "stdout",
     "output_type": "stream",
     "text": [
      "lichess_elite_2015-08.pgn\n",
      "lichess_elite_2015-06.pgn\n",
      "lichess_elite_2016-10.pgn\n"
     ]
    },
    {
     "name": "stderr",
     "output_type": "stream",
     "text": [
      "\r",
      " 62%|██████▏   | 56/90 [01:34<00:42,  1.26s/it]"
     ]
    },
    {
     "name": "stdout",
     "output_type": "stream",
     "text": [
      "lichess_elite_2020-12.pgn\n"
     ]
    },
    {
     "name": "stderr",
     "output_type": "stream",
     "text": [
      "\r",
      " 63%|██████▎   | 57/90 [01:43<01:35,  2.90s/it]"
     ]
    },
    {
     "name": "stdout",
     "output_type": "stream",
     "text": [
      "lichess_elite_2014-05.pgn\n",
      "lichess_elite_2020-01.pgn\n"
     ]
    },
    {
     "name": "stderr",
     "output_type": "stream",
     "text": [
      "\r",
      " 66%|██████▌   | 59/90 [01:47<01:20,  2.61s/it]"
     ]
    },
    {
     "name": "stdout",
     "output_type": "stream",
     "text": [
      "lichess_elite_2019-07.pgn\n"
     ]
    },
    {
     "name": "stderr",
     "output_type": "stream",
     "text": [
      "\r",
      " 67%|██████▋   | 60/90 [01:48<01:11,  2.39s/it]"
     ]
    },
    {
     "name": "stdout",
     "output_type": "stream",
     "text": [
      "lichess_elite_2014-02.pgn\n",
      "lichess_elite_2014-10.pgn\n",
      "lichess_elite_2017-03.pgn\n"
     ]
    },
    {
     "name": "stderr",
     "output_type": "stream",
     "text": [
      "\r",
      " 70%|███████   | 63/90 [01:49<00:35,  1.32s/it]"
     ]
    },
    {
     "name": "stdout",
     "output_type": "stream",
     "text": [
      "lichess_elite_2019-03.pgn\n"
     ]
    },
    {
     "name": "stderr",
     "output_type": "stream",
     "text": [
      "\r",
      " 71%|███████   | 64/90 [01:50<00:32,  1.26s/it]"
     ]
    },
    {
     "name": "stdout",
     "output_type": "stream",
     "text": [
      "lichess_elite_2017-06.pgn\n"
     ]
    },
    {
     "name": "stderr",
     "output_type": "stream",
     "text": [
      "\r",
      " 72%|███████▏  | 65/90 [01:50<00:27,  1.08s/it]"
     ]
    },
    {
     "name": "stdout",
     "output_type": "stream",
     "text": [
      "lichess_elite_2019-09.pgn\n"
     ]
    },
    {
     "name": "stderr",
     "output_type": "stream",
     "text": [
      "\r",
      " 73%|███████▎  | 66/90 [01:52<00:31,  1.29s/it]"
     ]
    },
    {
     "name": "stdout",
     "output_type": "stream",
     "text": [
      "lichess_elite_2019-12.pgn\n"
     ]
    },
    {
     "name": "stderr",
     "output_type": "stream",
     "text": [
      "\r",
      " 74%|███████▍  | 67/90 [01:56<00:42,  1.86s/it]"
     ]
    },
    {
     "name": "stdout",
     "output_type": "stream",
     "text": [
      "lichess_elite_2017-09.pgn\n"
     ]
    },
    {
     "name": "stderr",
     "output_type": "stream",
     "text": [
      "\r",
      " 76%|███████▌  | 68/90 [01:56<00:32,  1.47s/it]"
     ]
    },
    {
     "name": "stdout",
     "output_type": "stream",
     "text": [
      "lichess_elite_2019-10.pgn\n"
     ]
    },
    {
     "name": "stderr",
     "output_type": "stream",
     "text": [
      "\r",
      " 77%|███████▋  | 69/90 [01:59<00:36,  1.73s/it]"
     ]
    },
    {
     "name": "stdout",
     "output_type": "stream",
     "text": [
      "lichess_elite_2015-07.pgn\n",
      "lichess_elite_2017-10.pgn\n"
     ]
    },
    {
     "name": "stderr",
     "output_type": "stream",
     "text": [
      "\r",
      " 79%|███████▉  | 71/90 [01:59<00:20,  1.07s/it]"
     ]
    },
    {
     "name": "stdout",
     "output_type": "stream",
     "text": [
      "lichess_elite_2020-02.pgn\n"
     ]
    },
    {
     "name": "stderr",
     "output_type": "stream",
     "text": [
      "\r",
      " 80%|████████  | 72/90 [02:03<00:32,  1.80s/it]"
     ]
    },
    {
     "name": "stdout",
     "output_type": "stream",
     "text": [
      "lichess_elite_2013-09.pgn\n",
      "lichess_elite_2016-09.pgn\n"
     ]
    },
    {
     "name": "stderr",
     "output_type": "stream",
     "text": [
      "\r",
      " 82%|████████▏ | 74/90 [02:04<00:18,  1.16s/it]"
     ]
    },
    {
     "name": "stdout",
     "output_type": "stream",
     "text": [
      "lichess_elite_2015-01.pgn\n",
      "lichess_elite_2014-11.pgn\n",
      "lichess_elite_2014-03.pgn\n",
      "lichess_elite_2020-09.pgn\n"
     ]
    },
    {
     "name": "stderr",
     "output_type": "stream",
     "text": [
      "\r",
      " 87%|████████▋ | 78/90 [02:10<00:16,  1.41s/it]"
     ]
    },
    {
     "name": "stdout",
     "output_type": "stream",
     "text": [
      "lichess_elite_2016-08.pgn\n"
     ]
    },
    {
     "name": "stderr",
     "output_type": "stream",
     "text": [
      "\r",
      " 88%|████████▊ | 79/90 [02:11<00:13,  1.25s/it]"
     ]
    },
    {
     "name": "stdout",
     "output_type": "stream",
     "text": [
      "lichess_elite_2015-12.pgn\n",
      "lichess_elite_2018-01.pgn\n"
     ]
    },
    {
     "name": "stderr",
     "output_type": "stream",
     "text": [
      "\r",
      " 90%|█████████ | 81/90 [02:11<00:08,  1.05it/s]"
     ]
    },
    {
     "name": "stdout",
     "output_type": "stream",
     "text": [
      "lichess_elite_2021-02.pgn\n"
     ]
    },
    {
     "name": "stderr",
     "output_type": "stream",
     "text": [
      "\r",
      " 91%|█████████ | 82/90 [02:20<00:19,  2.43s/it]"
     ]
    },
    {
     "name": "stdout",
     "output_type": "stream",
     "text": [
      "lichess_elite_2016-02.pgn\n"
     ]
    },
    {
     "name": "stderr",
     "output_type": "stream",
     "text": [
      "\r",
      " 92%|█████████▏| 83/90 [02:20<00:13,  1.97s/it]"
     ]
    },
    {
     "name": "stdout",
     "output_type": "stream",
     "text": [
      "lichess_elite_2015-11.pgn\n",
      "lichess_elite_2016-06.pgn\n"
     ]
    },
    {
     "name": "stderr",
     "output_type": "stream",
     "text": [
      "\r",
      " 94%|█████████▍| 85/90 [02:21<00:06,  1.34s/it]"
     ]
    },
    {
     "name": "stdout",
     "output_type": "stream",
     "text": [
      "lichess_elite_2014-06.pgn\n",
      "lichess_elite_2020-03.pgn\n"
     ]
    },
    {
     "name": "stderr",
     "output_type": "stream",
     "text": [
      "\r",
      " 97%|█████████▋| 87/90 [02:27<00:05,  1.95s/it]"
     ]
    },
    {
     "name": "stdout",
     "output_type": "stream",
     "text": [
      "lichess_elite_2014-12.pgn\n",
      "lichess_elite_2018-12.pgn\n"
     ]
    },
    {
     "name": "stderr",
     "output_type": "stream",
     "text": [
      "100%|██████████| 90/90 [02:28<00:00,  1.65s/it]"
     ]
    },
    {
     "name": "stdout",
     "output_type": "stream",
     "text": [
      "lichess_elite_2015-03.pgn\n"
     ]
    },
    {
     "name": "stderr",
     "output_type": "stream",
     "text": [
      "\n"
     ]
    }
   ],
   "source": [
    "path = \"/home/sam/Documents/Python/Lichess Elite Database\"\n",
    "files = os.listdir(path)\n",
    "w_substr = '[White \"'\n",
    "b_substr = '[Black \"'\n",
    "w_rating_diff_substr = '[BlackRatingDiff \"'\n",
    "b_rating_diff_substr = '[WhiteRatingDiff \"'\n",
    "\n",
    "move_substring = '1.'\n",
    "\n",
    "name = 'EricRosen'\n",
    "\n",
    "w_dict = dict()\n",
    "b_dict = dict()\n",
    "for i in tqdm.tqdm(range(len(files))):\n",
    "    file = files[i]\n",
    "    f=open(os.path.join(path,file),'r')\n",
    "    while True:\n",
    "        line = f.readline()\n",
    "        if line == '':\n",
    "            break\n",
    "        if line[:len(w_substr)] == w_substr:\n",
    "            w_name = line.split('\"')[1]\n",
    "        elif line[:len(b_substr)] == b_substr:\n",
    "            b_name = line.split('\"')[1]\n",
    "        elif line[:len(w_rating_diff_substr)] == w_rating_diff_substr:\n",
    "            w_diff = int(line.split('\"')[1])\n",
    "        elif line[:len(b_rating_diff_substr)] == b_rating_diff_substr:\n",
    "            b_diff = int(line.split('\"')[1])\n",
    "        elif line[:len(move_substring)] == move_substring:\n",
    "            if w_name == name:\n",
    "                is_white = True\n",
    "                # print(b_name, w_diff, end=', ')\n",
    "            elif b_name == name:\n",
    "                is_white = False\n",
    "                # print(w_name, b_diff, end=', ')\n",
    "            else:\n",
    "                continue\n",
    "            new_line = f.readline()\n",
    "            lines = [line]\n",
    "            while new_line != \"\\n\":\n",
    "                lines.append(new_line)\n",
    "                new_line = f.readline()\n",
    "            moves = get_moves(lines, is_white)\n",
    "            for move in moves:\n",
    "                if is_white:\n",
    "                    if move not in w_dict:\n",
    "                        w_dict[move] = [0, 0]\n",
    "                    w_dict[move][0] += w_diff\n",
    "                    w_dict[move][1] += 1\n",
    "                else:\n",
    "                    if move not in b_dict:\n",
    "                        b_dict[move] = [0, 0]\n",
    "                    b_dict[move][0] += b_diff\n",
    "                    b_dict[move][1] += 1\n",
    "                \n",
    "    f.close()"
   ]
  },
  {
   "cell_type": "code",
   "execution_count": 115,
   "metadata": {},
   "outputs": [
    {
     "name": "stdout",
     "output_type": "stream",
     "text": [
      "(Filtered by Num. of Games >= 10)\n",
      "Moves = 1\n",
      "\n",
      "\t1. c4\n",
      "\tAve. Elo Gain: -0.04348\n",
      "\tNum. of Games: 23\n",
      "\n",
      "\t1. e4\n",
      "\tAve. Elo Gain: -0.4429\n",
      "\tNum. of Games: 140\n",
      "\n",
      "\t1. d4\n",
      "\tAve. Elo Gain: -0.947\n",
      "\tNum. of Games: 302\n",
      "\n",
      "Moves = 2\n",
      "\n",
      "\t1. d4 c5 2. dxc5\n",
      "\tAve. Elo Gain: 0.1333\n",
      "\tNum. of Games: 15\n",
      "\n",
      "\t1. e4 c5 2. Nc3\n",
      "\tAve. Elo Gain: -0.1395\n",
      "\tNum. of Games: 43\n",
      "\n",
      "\t1. d4 e6 2. Bf4\n",
      "\tAve. Elo Gain: -0.2727\n",
      "\tNum. of Games: 11\n",
      "\n",
      "\t1. d4 Nf6 2. Bf4\n",
      "\tAve. Elo Gain: -0.6761\n",
      "\tNum. of Games: 142\n",
      "\n",
      "\t1. d4 g6 2. e4\n",
      "\tAve. Elo Gain: -1.182\n",
      "\tNum. of Games: 11\n",
      "\n",
      "\t1. d4 d5 2. Bf4\n",
      "\tAve. Elo Gain: -1.262\n",
      "\tNum. of Games: 80\n",
      "\n",
      "\t1. e4 e5 2. Nf3\n",
      "\tAve. Elo Gain: -2.367\n",
      "\tNum. of Games: 30\n",
      "\n",
      "\t1. d4 d6 2. e4\n",
      "\tAve. Elo Gain: -4.0\n",
      "\tNum. of Games: 14\n",
      "\n",
      "Moves = 3\n",
      "\n",
      "\t1. d4 Nf6 2. Bf4 c5 3. e3\n",
      "\tAve. Elo Gain: 0.5\n",
      "\tNum. of Games: 26\n",
      "\n",
      "\t1. d4 Nf6 2. Bf4 d6 3. Nc3\n",
      "\tAve. Elo Gain: 0.1364\n",
      "\tNum. of Games: 22\n",
      "\n",
      "\t1. d4 Nf6 2. Bf4 d5 3. e3\n",
      "\tAve. Elo Gain: -0.3636\n",
      "\tNum. of Games: 22\n",
      "\n",
      "\t1. e4 c5 2. Nc3 Nc6 3. Bb5\n",
      "\tAve. Elo Gain: -0.65\n",
      "\tNum. of Games: 20\n",
      "\n",
      "\t1. d4 d5 2. Bf4 Nf6 3. e3\n",
      "\tAve. Elo Gain: -0.9474\n",
      "\tNum. of Games: 38\n",
      "\n",
      "\t1. d4 Nf6 2. Bf4 e6 3. e3\n",
      "\tAve. Elo Gain: -1.48\n",
      "\tNum. of Games: 25\n",
      "\n",
      "\t1. d4 Nf6 2. Bf4 g6 3. Nc3\n",
      "\tAve. Elo Gain: -1.5\n",
      "\tNum. of Games: 36\n",
      "\n",
      "\t1. d4 d5 2. Bf4 e6 3. e3\n",
      "\tAve. Elo Gain: -2.909\n",
      "\tNum. of Games: 11\n",
      "\n",
      "\t1. d4 d5 2. Bf4 c5 3. e3\n",
      "\tAve. Elo Gain: -3.294\n",
      "\tNum. of Games: 17\n",
      "\n",
      "Moves = 4\n",
      "\n",
      "\t1. d4 Nf6 2. Bf4 d6 3. Nc3 g6 4. e4\n",
      "\tAve. Elo Gain: 0.4\n",
      "\tNum. of Games: 10\n",
      "\n",
      "\t1. d4 Nf6 2. Bf4 d5 3. e3 c5 4. Nf3\n",
      "\tAve. Elo Gain: 0.0\n",
      "\tNum. of Games: 12\n",
      "\n",
      "\t1. d4 d5 2. Bf4 c5 3. e3 Nc6 4. Nf3\n",
      "\tAve. Elo Gain: -0.1\n",
      "\tNum. of Games: 10\n",
      "\n",
      "\t1. d4 d5 2. Bf4 Nf6 3. e3 e6 4. Nd2\n",
      "\tAve. Elo Gain: -0.3571\n",
      "\tNum. of Games: 14\n",
      "\n",
      "\t1. d4 d5 2. Bf4 Nf6 3. e3 c5 4. Nf3\n",
      "\tAve. Elo Gain: -0.8571\n",
      "\tNum. of Games: 21\n",
      "\n",
      "\t1. d4 Nf6 2. Bf4 e6 3. e3 d5 4. Nd2\n",
      "\tAve. Elo Gain: -1.5\n",
      "\tNum. of Games: 10\n",
      "\n",
      "\t1. d4 Nf6 2. Bf4 g6 3. Nc3 d5 4. e3\n",
      "\tAve. Elo Gain: -1.737\n",
      "\tNum. of Games: 19\n",
      "\n",
      "\t1. e4 c5 2. Nc3 Nc6 3. Bb5 Nd4 4. Bc4\n",
      "\tAve. Elo Gain: -1.818\n",
      "\tNum. of Games: 11\n",
      "\n",
      "\t1. d4 Nf6 2. Bf4 g6 3. Nc3 Bg7 4. e4\n",
      "\tAve. Elo Gain: -2.6\n",
      "\tNum. of Games: 10\n",
      "\n",
      "Moves = 5\n",
      "\n",
      "\t1. d4 Nf6 2. Bf4 d5 3. e3 c5 4. Nf3 Nc6 5. Nbd2\n",
      "\tAve. Elo Gain: 0.0\n",
      "\tNum. of Games: 12\n",
      "\n",
      "\t1. d4 d5 2. Bf4 Nf6 3. e3 c5 4. Nf3 Nc6 5. Nbd2\n",
      "\tAve. Elo Gain: -0.2\n",
      "\tNum. of Games: 20\n",
      "\n",
      "\t1. d4 d5 2. Bf4 Nf6 3. e3 e6 4. Nd2 Bd6 5. Bg3\n",
      "\tAve. Elo Gain: -0.9167\n",
      "\tNum. of Games: 12\n",
      "\n",
      "\t1. d4 Nf6 2. Bf4 g6 3. Nc3 d5 4. e3 Bg7 5. h4\n",
      "\tAve. Elo Gain: -1.556\n",
      "\tNum. of Games: 18\n",
      "\n",
      "Moves = 6\n",
      "\n",
      "Moves = 7\n",
      "\n",
      "Moves = 8\n",
      "\n",
      "Moves = 9\n",
      "\n",
      "Moves = 10\n",
      "\n"
     ]
    }
   ],
   "source": [
    "import operator\n",
    "\n",
    "min_games = 10\n",
    "print(f\"(Filtered by Num. of Games >= {min_games})\")\n",
    "\n",
    "is_white = True\n",
    "if is_white:\n",
    "    d = w_dict\n",
    "    len_add = 2\n",
    "else:\n",
    "    d = b_dict\n",
    "    len_add = 3\n",
    "for i in range(10):\n",
    "    ave_dict = dict()\n",
    "    length = i * 3 + len_add\n",
    "    print(f\"Moves = {i+1}\\n\")\n",
    "    for key in d:\n",
    "        if (d[key][1] >= min_games\n",
    "            and len(key.split(' ')) == length):\n",
    "            ave_dict[key] = (d[key][0] / d[key][1], d[key][1])\n",
    "    sorted_tuples = sorted(ave_dict.items(), key=lambda x:-x[1][0])\n",
    "    sorted_dict = {k: v for k, v in sorted_tuples}\n",
    "    for k in sorted_dict:\n",
    "        print(f\"\\t{k}\\n\\tAve. Elo Gain: {sorted_dict[k][0]:{2}.{4}}\\n\\tNum. of Games: {sorted_dict[k][1]}\\n\")\n"
   ]
  },
  {
   "cell_type": "code",
   "execution_count": 92,
   "metadata": {},
   "outputs": [
    {
     "name": "stdout",
     "output_type": "stream",
     "text": [
      "1. d4 2\n",
      "1. d4 d5 2. Bf4 5\n",
      "1. d4 d5 2. Bf4 c6 3. Nd2 8\n",
      "1. d4 d5 2. Bf4 c6 3. Nd2 Nf6 4. Ngf3 11\n",
      "1. e4 2\n",
      "1. e4 c5 2. Nc3 5\n",
      "1. e4 c5 2. Nc3 d6 3. f4 8\n",
      "1. e4 c5 2. Nc3 d6 3. f4 Nc6 4. Nf3 11\n",
      "1. d4 Nf6 2. Bf4 5\n",
      "1. d4 Nf6 2. Bf4 e6 3. e3 8\n",
      "1. d4 Nf6 2. Bf4 e6 3. e3 c5 4. Nf3 11\n",
      "1. d4 Nf6 2. Bf4 g6 3. Nc3 8\n",
      "1. d4 Nf6 2. Bf4 g6 3. Nc3 Bg7 4. e4 11\n",
      "1. c4 2\n",
      "1. c4 c5 2. Nf3 5\n",
      "1. c4 c5 2. Nf3 b6 3. e4 8\n",
      "1. c4 c5 2. Nf3 b6 3. e4 d6 4. d4 11\n",
      "1. e4 c6 2. d3 5\n",
      "1. e4 c6 2. d3 d5 3. Nd2 8\n",
      "1. e4 c6 2. d3 d5 3. Nd2 Nf6 4. Ngf3 11\n",
      "1. d4 d5 2. Bf4 Nf6 3. e3 8\n",
      "1. d4 d5 2. Bf4 Nf6 3. e3 c5 4. Nf3 11\n",
      "1. e4 c6 2. d3 d5 3. Nd2 dxe4 4. dxe4 11\n",
      "1. d4 Nf6 2. Bf4 g6 3. Nc3 d5 4. e3 11\n",
      "1. d4 d5 2. Bf4 c5 3. e3 8\n",
      "1. d4 d5 2. Bf4 c5 3. e3 e6 4. Nf3 11\n",
      "1. e4 e6 2. c4 5\n",
      "1. e4 e6 2. c4 d5 3. cxd5 8\n",
      "1. e4 e6 2. c4 d5 3. cxd5 exd5 4. Qb3 11\n",
      "1. e4 e5 2. Nf3 5\n",
      "1. e4 e5 2. Nf3 Nc6 3. Nc3 8\n",
      "1. e4 e5 2. Nf3 Nc6 3. Nc3 Nf6 4. a3 11\n",
      "1. e4 e5 2. Nf3 Nc6 3. Bb5 8\n",
      "1. e4 e5 2. Nf3 Nc6 3. Bb5 a6 4. Ba4 11\n",
      "1. e4 e5 2. Nf3 Nc6 3. Nc3 Nf6 4. Nxe5 11\n",
      "1. d4 Nf6 2. Bf4 c5 3. e3 8\n",
      "1. d4 Nf6 2. Bf4 c5 3. e3 g6 4. Nd2 11\n",
      "1. d4 Nf6 2. Bf4 g6 3. Nc3 d6 4. e4 11\n",
      "1. d4 d5 2. Bf4 c5 3. e3 Nc6 4. Nf3 11\n",
      "1. e4 g6 2. d4 5\n",
      "1. e4 g6 2. d4 Bg7 3. Nf3 8\n",
      "1. e4 g6 2. d4 Bg7 3. Nf3 d6 4. Bc4 11\n",
      "1. c4 Nf6 2. Nc3 5\n",
      "1. c4 Nf6 2. Nc3 e6 3. e4 8\n",
      "1. c4 Nf6 2. Nc3 e6 3. e4 d6 4. d4 11\n",
      "1. d4 Nf6 2. Bf4 g6 3. Nc3 c5 4. d5 11\n",
      "1. d4 Nf6 2. Bf4 d6 3. Nc3 8\n",
      "1. d4 Nf6 2. Bf4 d6 3. Nc3 g6 4. e4 11\n",
      "1. d4 g6 2. e4 5\n",
      "1. d4 g6 2. e4 Bg7 3. Nf3 8\n",
      "1. d4 g6 2. e4 Bg7 3. Nf3 d6 4. Bc4 11\n",
      "1. e4 c5 2. Nc3 e6 3. g3 8\n",
      "1. e4 c5 2. Nc3 e6 3. g3 d5 4. Bg2 11\n",
      "1. d4 Nf6 2. Bf4 c5 3. e3 cxd4 4. exd4 11\n",
      "1. d4 c6 2. Bf4 5\n",
      "1. d4 c6 2. Bf4 d5 3. e3 8\n",
      "1. d4 c6 2. Bf4 d5 3. e3 Bf5 4. Nf3 11\n",
      "1. d4 Nf6 2. Bf4 d5 3. e3 8\n",
      "1. d4 Nf6 2. Bf4 d5 3. e3 c5 4. Nf3 11\n",
      "1. c4 e5 2. Nc3 5\n",
      "1. c4 e5 2. Nc3 Nc6 3. Nf3 8\n",
      "1. c4 e5 2. Nc3 Nc6 3. Nf3 Nf6 4. a3 11\n",
      "1. d4 Nf6 2. Bf4 d5 3. e3 e6 4. Nd2 11\n",
      "1. d4 Nf6 2. Bf4 d6 3. Nc3 Nbd7 4. Nf3 11\n",
      "1. d4 c5 2. dxc5 5\n",
      "1. d4 c5 2. dxc5 e5 3. Nc3 8\n",
      "1. d4 c5 2. dxc5 e5 3. Nc3 Bxc5 4. Ne4 11\n",
      "1. d4 Nf6 2. Bf4 Nh5 3. Bd2 8\n",
      "1. d4 Nf6 2. Bf4 Nh5 3. Bd2 g6 4. e4 11\n",
      "1. d4 Nf6 2. Bf4 e5 3. Bxe5 8\n",
      "1. d4 Nf6 2. Bf4 e5 3. Bxe5 Ne4 4. Nd2 11\n",
      "1. d4 d6 2. e4 5\n",
      "1. d4 d6 2. e4 Nf6 3. Nc3 8\n",
      "1. d4 d6 2. e4 Nf6 3. Nc3 Nbd7 4. Nf3 11\n",
      "1. d4 Nf6 2. Bf4 e6 3. e3 d5 4. Nd2 11\n",
      "1. d4 g6 2. e4 Bg7 3. Nf3 c5 4. c3 11\n",
      "1. d4 e5 2. dxe5 5\n",
      "1. d4 e5 2. dxe5 d6 3. Nc3 8\n",
      "1. d4 e5 2. dxe5 d6 3. Nc3 Nc6 4. Nf3 11\n",
      "1. d4 Nf6 2. Bf4 g6 3. Nc3 c5 4. dxc5 11\n",
      "1. d4 d5 2. Bf4 Nf6 3. e3 e6 4. Nd2 11\n",
      "1. d4 d5 2. Bf4 e6 3. e3 8\n",
      "1. d4 d5 2. Bf4 e6 3. e3 a6 4. Nd2 11\n",
      "1. d4 b5 2. Bf4 5\n",
      "1. d4 b5 2. Bf4 Bb7 3. e3 8\n",
      "1. d4 b5 2. Bf4 Bb7 3. e3 a6 4. Nf3 11\n",
      "1. d4 c5 2. dxc5 Na6 3. e4 8\n",
      "1. d4 c5 2. dxc5 Na6 3. e4 Nxc5 4. Nc3 11\n",
      "1. d4 Nc6 2. Nf3 5\n",
      "1. d4 Nc6 2. Nf3 d5 3. e3 8\n",
      "1. d4 Nc6 2. Nf3 d5 3. e3 Nf6 4. c4 11\n",
      "1. e4 e5 2. Nf3 Nc6 3. Bb5 g6 4. Nc3 11\n",
      "1. e4 g6 2. d4 Bg7 3. Nf3 a6 4. a4 11\n",
      "1. e4 d5 2. exd5 5\n",
      "1. e4 d5 2. exd5 Qxd5 3. Nc3 8\n",
      "1. e4 d5 2. exd5 Qxd5 3. Nc3 Qd6 4. d4 11\n",
      "1. e4 c6 2. Nc3 5\n",
      "1. e4 c6 2. Nc3 d5 3. Nf3 8\n",
      "1. e4 c6 2. Nc3 d5 3. Nf3 Nf6 4. e5 11\n",
      "1. d4 Nf6 2. Bf4 d6 3. Nc3 Bf5 4. f3 11\n",
      "1. d4 Nf6 2. Bf4 c5 3. e3 Qb6 4. Na3 11\n",
      "1. e4 c5 2. Nc3 g6 3. d4 8\n",
      "1. e4 c5 2. Nc3 g6 3. d4 cxd4 4. Qxd4 11\n",
      "1. d4 d5 2. Bf4 c5 3. e3 cxd4 4. exd4 11\n",
      "1. d4 d5 2. Bf4 e6 3. e3 Bd6 4. Bxd6 11\n",
      "1. d4 c5 2. dxc5 e6 3. Nc3 8\n",
      "1. d4 c5 2. dxc5 e6 3. Nc3 Bxc5 4. Ne4 11\n",
      "1. d4 Nf6 2. Bf4 c5 3. e3 d6 4. Nf3 11\n",
      "1. e4 e6 2. Nf3 5\n",
      "1. e4 e6 2. Nf3 d5 3. e5 8\n",
      "1. e4 e6 2. Nf3 d5 3. e5 c5 4. b4 11\n",
      "1. e4 c5 2. Nc3 Nc6 3. Bb5 8\n",
      "1. e4 c5 2. Nc3 Nc6 3. Bb5 Nd4 4. Bc4 11\n",
      "1. d4 d6 2. e4 g6 3. Nf3 8\n",
      "1. d4 d6 2. e4 g6 3. Nf3 Bg7 4. Bc4 11\n",
      "1. d4 d5 2. Bf4 e6 3. e3 Nf6 4. Nd2 11\n",
      "1. d4 d5 2. Bf4 c6 3. e3 8\n",
      "1. d4 d5 2. Bf4 c6 3. e3 Bf5 4. Nd2 11\n",
      "1. d4 d5 2. Bf4 e6 3. e3 c5 4. Nf3 11\n",
      "1. e4 e5 2. Nf3 Nc6 3. c3 8\n",
      "1. e4 e5 2. Nf3 Nc6 3. c3 d5 4. Qa4 11\n",
      "1. d4 d6 2. e4 e5 3. Nf3 8\n",
      "1. d4 d6 2. e4 e5 3. Nf3 Nc6 4. c3 11\n",
      "1. e4 e5 2. Nf3 Nc6 3. c3 Nf6 4. d4 11\n",
      "1. e4 c5 2. c3 5\n",
      "1. e4 c5 2. c3 d5 3. exd5 8\n",
      "1. e4 c5 2. c3 d5 3. exd5 Qxd5 4. d4 11\n",
      "1. e4 c5 2. Nf3 5\n",
      "1. e4 c5 2. Nf3 g6 3. c4 8\n",
      "1. e4 c5 2. Nf3 g6 3. c4 Nc6 4. d4 11\n",
      "1. d4 Nf6 2. c4 5\n",
      "1. d4 Nf6 2. c4 c5 3. d5 8\n",
      "1. d4 Nf6 2. c4 c5 3. d5 b5 4. e4 11\n",
      "1. d4 d6 2. e4 Nf6 3. Nc3 g6 4. Bf4 11\n",
      "1. d4 Nf6 2. Bf4 e6 3. e3 Be7 4. Nd2 11\n",
      "1. d4 c6 2. Bf4 d6 3. Nd2 8\n",
      "1. d4 c6 2. Bf4 d6 3. Nd2 Qb6 4. Ngf3 11\n",
      "1. d4 Nf6 2. Bf4 c5 3. e3 Nd5 4. Bg3 11\n",
      "1. d4 d5 2. Bf4 c6 3. e3 Nf6 4. Nd2 11\n",
      "1. e4 c5 2. Nc3 Nc6 3. Bb5 Qc7 4. Nf3 11\n",
      "1. e4 g6 2. d4 Bg7 3. Nf3 c5 4. dxc5 11\n",
      "1. d4 e6 2. Bf4 5\n",
      "1. d4 e6 2. Bf4 c5 3. e3 8\n",
      "1. d4 e6 2. Bf4 c5 3. e3 d5 4. Nf3 11\n",
      "1. e4 c6 2. Bc4 5\n",
      "1. e4 c6 2. Bc4 d5 3. Bb3 8\n",
      "1. e4 c6 2. Bc4 d5 3. Bb3 dxe4 4. Qh5 11\n",
      "1. d4 e6 2. Bf4 d5 3. e3 8\n",
      "1. d4 e6 2. Bf4 d5 3. e3 Nf6 4. Nd2 11\n",
      "1. e4 c5 2. Nc3 d6 3. d4 8\n",
      "1. e4 c5 2. Nc3 d6 3. d4 cxd4 4. Qxd4 11\n",
      "1. e4 c5 2. Nc3 Nc6 3. Bb5 g6 4. Bxc6 11\n",
      "1. e4 c5 2. Nc3 Nc6 3. Bb5 a6 4. Bxc6 11\n",
      "1. e4 d5 2. exd5 c6 3. d4 8\n",
      "1. e4 d5 2. exd5 c6 3. d4 cxd5 4. c4 11\n",
      "1. d4 Nf6 2. Bf4 e6 3. e3 d6 4. Nf3 11\n",
      "1. e4 c5 2. Nc3 e6 3. f4 8\n",
      "1. e4 c5 2. Nc3 e6 3. f4 d5 4. Nf3 11\n",
      "1. e4 c5 2. Nc3 e6 3. f4 a6 4. Nf3 11\n",
      "1. e4 e6 2. d4 5\n",
      "1. e4 e6 2. d4 d5 3. Nd2 8\n",
      "1. e4 e6 2. d4 d5 3. Nd2 Nf6 4. e5 11\n",
      "1. d4 d6 2. e4 Nc6 3. d5 8\n",
      "1. d4 d6 2. e4 Nc6 3. d5 Nb8 4. c4 11\n",
      "1. e4 e5 2. Nf3 Nc6 3. d4 8\n",
      "1. e4 e5 2. Nf3 Nc6 3. d4 exd4 4. Bc4 11\n",
      "1. c4 Nf6 2. Nc3 g6 3. e4 8\n",
      "1. c4 Nf6 2. Nc3 g6 3. e4 d6 4. d4 11\n",
      "1. d4 d5 2. Bf4 c5 3. e3 Nc6 4. c3 11\n",
      "1. d4 g6 2. e4 Bg7 3. Nc3 8\n",
      "1. d4 g6 2. e4 Bg7 3. Nc3 d6 4. g3 11\n",
      "1. Nf3 2\n",
      "1. Nf3 Nf6 2. c4 5\n",
      "1. Nf3 Nf6 2. c4 g6 3. Nc3 8\n",
      "1. Nf3 Nf6 2. c4 g6 3. Nc3 Bg7 4. e4 11\n",
      "1. Nf3 Nf6 2. c4 g6 3. Nc3 d5 4. cxd5 11\n",
      "1. d4 Nf6 2. Bf4 c5 3. e3 d5 4. Nf3 11\n",
      "1. e4 e5 2. Nf3 Nc6 3. Bb5 Bc5 4. c3 11\n",
      "1. c4 e5 2. Nc3 Nc6 3. Nf3 f5 4. d4 11\n",
      "1. c4 d5 2. cxd5 5\n",
      "1. c4 d5 2. cxd5 c6 3. dxc6 8\n",
      "1. c4 d5 2. cxd5 c6 3. dxc6 Nxc6 4. Nc3 11\n",
      "1. d4 d5 2. Bf4 c6 3. Nd2 Qb6 4. Ngf3 11\n",
      "1. e4 b6 2. Nf3 5\n",
      "1. e4 b6 2. Nf3 Bb7 3. Nc3 8\n",
      "1. e4 b6 2. Nf3 Bb7 3. Nc3 e6 4. e5 11\n",
      "1. e4 c5 2. Nc3 Nc6 3. Bb5 e6 4. Bxc6 11\n",
      "1. d4 e6 2. Bf4 Nf6 3. e3 8\n",
      "1. d4 e6 2. Bf4 Nf6 3. e3 Bd6 4. Bg3 11\n",
      "1. d4 d6 2. e4 Nf6 3. Nc3 e5 4. Nf3 11\n",
      "1. e4 e6 2. Nc3 5\n",
      "1. e4 e6 2. Nc3 d5 3. Nf3 8\n",
      "1. e4 e6 2. Nc3 d5 3. Nf3 Nf6 4. e5 11\n",
      "1. c4 g6 2. Nc3 5\n",
      "1. c4 g6 2. Nc3 c5 3. Nf3 8\n",
      "1. c4 g6 2. Nc3 c5 3. Nf3 Bg7 4. e3 11\n",
      "1. d4 d5 2. Bf4 Bf5 3. e3 8\n",
      "1. d4 d5 2. Bf4 Bf5 3. e3 e6 4. Nf3 11\n",
      "1. d4 f5 2. Bf4 5\n",
      "1. d4 f5 2. Bf4 Nf6 3. e3 8\n",
      "1. d4 f5 2. Bf4 Nf6 3. e3 g6 4. Nf3 11\n",
      "1. d4 c6 2. Bf4 d5 3. Nd2 8\n",
      "1. d4 c6 2. Bf4 d5 3. Nd2 Nf6 4. Ngf3 11\n",
      "1. d4 Nf6 2. Bf4 c5 3. e3 g6 4. Nf3 11\n",
      "1. d4 Nf6 2. Bf4 d6 3. e3 8\n",
      "1. d4 Nf6 2. Bf4 d6 3. e3 Nbd7 4. Nc3 11\n",
      "1. d4 Nf6 2. Bf4 d6 3. e3 g6 4. Nc3 11\n",
      "1. d4 Nf6 2. Bf4 d5 3. e3 g6 4. Nc3 11\n",
      "1. d4 e5 2. dxe5 Nc6 3. Nf3 8\n",
      "1. d4 e5 2. dxe5 Nc6 3. Nf3 d6 4. Bf4 11\n",
      "1. d4 Nf6 2. Bf4 c5 3. e3 e6 4. Nf3 11\n",
      "1. d4 d5 2. Bf4 Nf6 3. e3 g6 4. Nc3 11\n",
      "1. d4 d6 2. e4 Nf6 3. Nc3 g6 4. Bc4 11\n",
      "1. c4 e6 2. e4 5\n",
      "1. c4 e6 2. e4 d5 3. cxd5 8\n",
      "1. c4 e6 2. e4 d5 3. cxd5 exd5 4. Qb3 11\n",
      "1. d4 Nf6 2. Nc3 5\n",
      "1. d4 Nf6 2. Nc3 d5 3. e4 8\n",
      "1. d4 Nf6 2. Nc3 d5 3. e4 dxe4 4. f3 11\n",
      "1. g4 2\n",
      "1. g4 g6 2. c4 5\n",
      "1. g4 g6 2. c4 c5 3. e3 8\n",
      "1. g4 g6 2. c4 c5 3. e3 Bg7 4. Nc3 11\n",
      "1. c4 e5 2. Nc3 Nc6 3. Nf3 d6 4. d4 11\n",
      "1. d4 e6 2. Bf4 Nf6 3. e3 d5 4. Nd2 11\n",
      "1. e4 c6 2. c4 5\n",
      "1. e4 c6 2. c4 d5 3. exd5 8\n",
      "1. e4 c6 2. c4 d5 3. exd5 cxd5 4. cxd5 11\n",
      "1. c4 b6 2. Nc3 5\n",
      "1. c4 b6 2. Nc3 Bb7 3. e4 8\n",
      "1. c4 b6 2. Nc3 Bb7 3. e4 e6 4. Nf3 11\n",
      "1. c4 f5 2. Nf3 5\n",
      "1. c4 f5 2. Nf3 Nf6 3. d4 8\n",
      "1. c4 f5 2. Nf3 Nf6 3. d4 g6 4. Nc3 11\n",
      "1. e4 d6 2. d4 5\n",
      "1. e4 d6 2. d4 c6 3. g3 8\n",
      "1. e4 d6 2. d4 c6 3. g3 Nd7 4. Bg2 11\n",
      "1. e4 d6 2. Bc4 5\n",
      "1. e4 d6 2. Bc4 Nf6 3. Qe2 8\n",
      "1. e4 d6 2. Bc4 Nf6 3. Qe2 e5 4. f4 11\n",
      "1. c4 e6 2. Nc3 5\n",
      "1. c4 e6 2. Nc3 d5 3. d4 8\n",
      "1. c4 e6 2. Nc3 d5 3. d4 Nf6 4. cxd5 11\n",
      "1. e4 c5 2. Nf3 e6 3. c4 8\n",
      "1. e4 c5 2. Nf3 e6 3. c4 Nc6 4. Be2 11\n",
      "1. d4 d5 2. Bf4 Bf5 3. e3 Nd7 4. c4 11\n",
      "1. c4 c5 2. Nf3 Nc6 3. Nc3 8\n",
      "1. c4 c5 2. Nf3 Nc6 3. Nc3 g6 4. e3 11\n",
      "1. e4 e6 2. b3 5\n",
      "1. e4 e6 2. b3 d5 3. Bb2 8\n",
      "1. e4 e6 2. b3 d5 3. Bb2 dxe4 4. Nc3 11\n",
      "1. e4 d5 2. exd5 Qxd5 3. Nc3 Qa5 4. b4 11\n",
      "1. e4 e6 2. b3 d5 3. Bb2 d4 4. Nf3 11\n",
      "1. e4 c5 2. Nf3 d6 3. Bb5+ 8\n",
      "1. e4 c5 2. Nf3 d6 3. Bb5+ Bd7 4. Bxd7+ 11\n",
      "1. e4 e5 2. Nf3 d6 3. d4 8\n",
      "1. e4 e5 2. Nf3 d6 3. d4 Nd7 4. Bc4 11\n",
      "1. e4 e5 2. Nf3 d6 3. d4 Nd7 4. Nc3 11\n",
      "1. e4 c6 2. Bc4 d5 3. Bb3 g6 4. h4 11\n",
      "1. e4 d6 2. Bc4 Nf6 3. Qe2 e6 4. d4 11\n",
      "1. e4 c5 2. Nf3 d6 3. d4 8\n",
      "1. e4 c5 2. Nf3 d6 3. d4 cxd4 4. Nxd4 11\n",
      "1. d4 d5 2. c4 5\n",
      "1. d4 d5 2. c4 c6 3. Nc3 8\n",
      "1. d4 d5 2. c4 c6 3. Nc3 Nf6 4. Nf3 11\n",
      "1. e4 c5 2. Nf3 d6 3. Bb5+ Nd7 4. c4 11\n",
      "1. g3 2\n",
      "1. g3 c5 2. Bg2 5\n",
      "1. g3 c5 2. Bg2 Nc6 3. Nf3 8\n",
      "1. g3 c5 2. Bg2 Nc6 3. Nf3 g6 4. O-O 11\n",
      "1. e4 c5 2. Nc3 Nc6 3. Nf3 8\n",
      "1. e4 c5 2. Nc3 Nc6 3. Nf3 g6 4. Bb5 11\n",
      "1. e4 c5 2. Nc3 d6 3. f4 g6 4. Nf3 11\n",
      "1. e4 c5 2. Nc3 Nc6 3. g3 8\n",
      "1. e4 c5 2. Nc3 Nc6 3. g3 g6 4. Bg2 11\n",
      "1. d4 Nf6 2. Bf4 b6 3. Nf3 8\n",
      "1. d4 Nf6 2. Bf4 b6 3. Nf3 Bb7 4. c4 11\n",
      "1. e4 e5 2. Nf3 Nc6 3. Bc4 8\n",
      "1. e4 e5 2. Nf3 Nc6 3. Bc4 Bc5 4. O-O 11\n",
      "1. d4 d5 2. c4 e5 3. dxe5 8\n",
      "1. d4 d5 2. c4 e5 3. dxe5 d4 4. a3 11\n",
      "1. d4 d5 2. Bf4 Nc6 3. e3 8\n",
      "1. d4 d5 2. Bf4 Nc6 3. e3 Nf6 4. Bb5 11\n",
      "1. e4 c5 2. Nc3 e6 3. f4 Nc6 4. Nf3 11\n",
      "1. e4 c5 2. Nc3 Nc6 3. f4 8\n",
      "1. e4 c5 2. Nc3 Nc6 3. f4 e6 4. Nf3 11\n",
      "1. e4 c6 2. Bc4 d5 3. Bb3 Nf6 4. Nc3 11\n",
      "1. Nc3 2\n",
      "1. Nc3 e6 2. f4 5\n",
      "1. Nc3 e6 2. f4 c5 3. e4 8\n",
      "1. Nc3 e6 2. f4 c5 3. e4 d6 4. Nf3 11\n",
      "1. g4 d5 2. Bg2 5\n",
      "1. g4 d5 2. Bg2 c6 3. c4 8\n",
      "1. g4 d5 2. Bg2 c6 3. c4 dxc4 4. Na3 11\n",
      "1. e4 c6 2. c4 e5 3. f4 8\n",
      "1. e4 c6 2. c4 e5 3. f4 exf4 4. Nf3 11\n",
      "1. d4 Nf6 2. Bf4 c5 3. dxc5 8\n",
      "1. d4 Nf6 2. Bf4 c5 3. dxc5 Na6 4. Nc3 11\n",
      "1. e4 c6 2. Nf3 5\n",
      "1. e4 c6 2. Nf3 d5 3. e5 8\n",
      "1. e4 c6 2. Nf3 d5 3. e5 Bg4 4. h3 11\n",
      "1. d4 Nf6 2. Bf4 e6 3. e3 b6 4. Qf3 11\n",
      "1. d4 d5 2. Bf4 c6 3. Nd2 Nf6 4. e3 11\n",
      "1. d4 Nf6 2. Bf4 d5 3. e3 Bf5 4. Nf3 11\n",
      "1. e4 Nc6 2. Nf3 5\n",
      "1. e4 Nc6 2. Nf3 d6 3. d4 8\n",
      "1. e4 Nc6 2. Nf3 d6 3. d4 Nf6 4. Nc3 11\n",
      "1. d4 e6 2. Bf4 f5 3. g4 8\n",
      "1. d4 e6 2. Bf4 f5 3. g4 Nf6 4. gxf5 11\n",
      "1. e4 Nf6 2. Nc3 5\n",
      "1. e4 Nf6 2. Nc3 d5 3. e5 8\n",
      "1. e4 Nf6 2. Nc3 d5 3. e5 d4 4. exf6 11\n",
      "1. d4 c5 2. dxc5 Nf6 3. Nc3 8\n",
      "1. d4 c5 2. dxc5 Nf6 3. Nc3 Na6 4. e4 11\n",
      "1. d3 2\n",
      "1. d3 Nf6 2. d4 5\n",
      "1. d3 Nf6 2. d4 g6 3. Nf3 8\n",
      "1. d3 Nf6 2. d4 g6 3. Nf3 Bg7 4. e3 11\n",
      "1. d4 g6 2. e4 d6 3. Nf3 8\n",
      "1. d4 g6 2. e4 d6 3. Nf3 Nf6 4. Nc3 11\n",
      "1. d4 d5 2. c4 Nh6 3. Nc3 8\n",
      "1. d4 d5 2. c4 Nh6 3. Nc3 Bf5 4. cxd5 11\n",
      "1. Nc3 e5 2. e3 5\n",
      "1. Nc3 e5 2. e3 d5 3. Qh5 8\n",
      "1. Nc3 e5 2. e3 d5 3. Qh5 Nc6 4. Bb5 11\n",
      "1. e4 c5 2. Ke2 5\n",
      "1. e4 c5 2. Ke2 Nc6 3. c3 8\n",
      "1. e4 c5 2. Ke2 Nc6 3. c3 d5 4. d3 11\n",
      "1. e4 e6 2. Nc3 d5 3. Qe2 8\n",
      "1. e4 e6 2. Nc3 d5 3. Qe2 Nf6 4. e5 11\n",
      "1. e4 e5 2. f4 5\n",
      "1. e4 e5 2. f4 d5 3. exd5 8\n",
      "1. e4 e5 2. f4 d5 3. exd5 e4 4. d3 11\n",
      "1. d4 c5 2. dxc5 Qa5+ 3. Nc3 8\n",
      "1. d4 c5 2. dxc5 Qa5+ 3. Nc3 Qxc5 4. e4 11\n",
      "1. c4 c5 2. a3 5\n",
      "1. c4 c5 2. a3 Nf6 3. b3 8\n",
      "1. c4 c5 2. a3 Nf6 3. b3 g6 4. b4 11\n",
      "1. e4 e5 2. Nf3 Nf6 3. Bc4 8\n",
      "1. e4 e5 2. Nf3 Nf6 3. Bc4 Nxe4 4. Nc3 11\n",
      "1. c4 b6 2. Nc3 Bb7 3. e4 c5 4. f4 11\n",
      "1. d4 d6 2. e4 Nf6 3. Bd3 8\n",
      "1. d4 d6 2. e4 Nf6 3. Bd3 e5 4. c3 11\n",
      "1. d4 d5 2. Nf3 5\n",
      "1. d4 d5 2. Nf3 Nf6 3. e3 8\n",
      "1. d4 d5 2. Nf3 Nf6 3. e3 Nc6 4. b3 11\n",
      "1. e4 c5 2. Nc3 g6 3. h4 8\n",
      "1. e4 c5 2. Nc3 g6 3. h4 h5 4. d4 11\n",
      "1. d4 g6 2. e4 Bg7 3. Nf3 c6 4. c4 11\n",
      "1. d4 d6 2. e4 c6 3. Nc3 8\n",
      "1. d4 d6 2. e4 c6 3. Nc3 g6 4. a4 11\n",
      "1. d4 d6 2. e4 g6 3. Bc4 8\n",
      "1. d4 d6 2. e4 g6 3. Bc4 Bg7 4. Nf3 11\n",
      "1. d4 Nf6 2. Bf4 d5 3. e3 Bf5 4. c4 11\n",
      "1. d4 c6 2. Bf4 d5 3. Nd2 Bf5 4. c4 11\n",
      "1. d4 f5 2. Bf4 Nf6 3. g4 8\n",
      "1. d4 f5 2. Bf4 Nf6 3. g4 d5 4. g5 11\n",
      "1. d4 e6 2. Bf4 d6 3. Nc3 8\n",
      "1. d4 e6 2. Bf4 d6 3. Nc3 Nf6 4. e4 11\n",
      "1. d4 f5 2. Bf4 Nf6 3. e3 e6 4. h3 11\n",
      "1. e4 Nf6 2. Nc3 d5 3. e5 Ne4 4. d3 11\n",
      "1. e4 c5 2. Nc3 g6 3. h4 h5 4. g3 11\n",
      "1. d4 d5 2. Bf4 e5 3. Bxe5 8\n",
      "1. d4 d5 2. Bf4 e5 3. Bxe5 Nc6 4. Bg3 11\n",
      "1. e4 e6 2. b3 d5 3. Bb2 Nf6 4. Nc3 11\n",
      "1. e4 e5 2. Nf3 Nc6 3. Bb5 Bc5 4. O-O 11\n",
      "1. d4 c5 2. d5 5\n",
      "1. d4 c5 2. d5 e5 3. dxe6 8\n",
      "1. d4 c5 2. d5 e5 3. dxe6 fxe6 4. e4 11\n",
      "1. d4 f5 2. Nc3 5\n",
      "1. d4 f5 2. Nc3 Nf6 3. Bg5 8\n",
      "1. d4 f5 2. Nc3 Nf6 3. Bg5 d5 4. Bxf6 11\n",
      "1. d4 e6 2. Bf4 f5 3. g4 fxg4 4. h3 11\n",
      "1. d4 Nf6 2. Bf4 d6 3. Nc3 Nh5 4. Bg5 11\n",
      "1. e4 e5 2. Nf3 Bc5 3. Bc4 8\n",
      "1. e4 e5 2. Nf3 Bc5 3. Bc4 Nf6 4. d3 11\n",
      "1. d4 Nf6 2. Bf4 d5 3. e3 e6 4. c3 11\n",
      "1. d4 Nf6 2. g4 5\n",
      "1. d4 Nf6 2. g4 Nxg4 3. e4 8\n",
      "1. d4 Nf6 2. g4 Nxg4 3. e4 Nf6 4. e5 11\n",
      "1. c4 Nf6 2. Nc3 c5 3. Nf3 8\n",
      "1. c4 Nf6 2. Nc3 c5 3. Nf3 e6 4. e4 11\n",
      "1. d4 Nf6 2. Bf4 Ne4 3. f3 8\n",
      "1. d4 Nf6 2. Bf4 Ne4 3. f3 Nd6 4. e4 11\n",
      "1. d4 Nf6 2. e3 5\n",
      "1. d4 Nf6 2. e3 e6 3. f4 8\n",
      "1. d4 Nf6 2. e3 e6 3. f4 b6 4. Nf3 11\n",
      "1. d4 d5 2. Bf4 Nf6 3. e3 Bf5 4. Nf3 11\n",
      "1. d4 Nf6 2. g4 d5 3. g5 8\n",
      "1. d4 Nf6 2. g4 d5 3. g5 Ne4 4. Nc3 11\n",
      "1. e4 e5 2. Nf3 Nf6 3. Nc3 8\n",
      "1. e4 e5 2. Nf3 Nf6 3. Nc3 Nc6 4. Nxe5 11\n",
      "1. e4 e5 2. Nf3 Nc6 3. Nc3 Nge7 4. d4 11\n",
      "1. d4 Nf6 2. Bf4 d6 3. Nc3 Bg4 4. Qd2 11\n",
      "1. d4 Nf6 2. c4 e6 3. Nc3 8\n",
      "1. d4 Nf6 2. c4 e6 3. Nc3 Bb4 4. Qc2 11\n",
      "1. d4 Nf6 2. c4 e6 3. Nf3 8\n",
      "1. d4 Nf6 2. c4 e6 3. Nf3 b6 4. Bf4 11\n",
      "1. e4 c5 2. Nc3 Nc6 3. Bb5 Nd4 4. Nf3 11\n",
      "1. d4 c5 2. dxc5 e6 3. Nc3 Na6 4. e4 11\n",
      "1. Na3 2\n",
      "1. Na3 Nf6 2. Nc4 5\n",
      "1. Na3 Nf6 2. Nc4 d5 3. Ne5 8\n",
      "1. Na3 Nf6 2. Nc4 d5 3. Ne5 c5 4. Ngf3 11\n",
      "1. d4 d5 2. Bf4 Nc6 3. e3 Bf5 4. Nd2 11\n",
      "1. d4 Nf6 2. Bf4 c5 3. e3 g6 4. Nc3 11\n",
      "1. e4 c5 2. Nc3 Nc6 3. Bb5 e6 4. Nf3 11\n",
      "1. d4 c6 2. Bf4 d5 3. e3 Nf6 4. Nf3 11\n",
      "1. e4 c6 2. c4 d5 3. cxd5 8\n",
      "1. e4 c6 2. c4 d5 3. cxd5 cxd5 4. exd5 11\n",
      "1. d4 c6 2. Bf4 d5 3. Nf3 8\n",
      "1. d4 c6 2. Bf4 d5 3. Nf3 e6 4. Nbd2 11\n",
      "1. e4 Nc6 2. Nc3 5\n",
      "1. e4 Nc6 2. Nc3 e5 3. Nf3 8\n",
      "1. e4 Nc6 2. Nc3 e5 3. Nf3 Nf6 4. a3 11\n",
      "1. e4 e6 2. Nf3 d5 3. Nc3 8\n",
      "1. e4 e6 2. Nf3 d5 3. Nc3 c5 4. exd5 11\n",
      "1. e4 Nf6 2. e5 5\n",
      "1. e4 Nf6 2. e5 Nd5 3. d4 8\n",
      "1. e4 Nf6 2. e5 Nd5 3. d4 d6 4. Nf3 11\n",
      "1. e4 c6 2. Bc4 d5 3. Bb3 Nf6 4. e5 11\n",
      "1. c4 c6 2. Nc3 5\n",
      "1. c4 c6 2. Nc3 d5 3. e3 8\n",
      "1. c4 c6 2. Nc3 d5 3. e3 Nf6 4. Nf3 11\n",
      "1. e4 e5 2. Nf3 d6 3. Nc3 8\n",
      "1. e4 e5 2. Nf3 d6 3. Nc3 c6 4. d4 11\n",
      "1. d4 h6 2. e4 5\n",
      "1. d4 h6 2. e4 c6 3. c4 8\n",
      "1. d4 h6 2. e4 c6 3. c4 d5 4. Nc3 11\n",
      "1. d4 d5 2. c4 e6 3. Nc3 8\n",
      "1. d4 d5 2. c4 e6 3. Nc3 Nf6 4. cxd5 11\n",
      "1. e4 d6 2. d4 g6 3. Nf3 8\n",
      "1. e4 d6 2. d4 g6 3. Nf3 Bg7 4. Bc4 11\n",
      "1. e4 c5 2. Nc3 a6 3. g3 8\n",
      "1. e4 c5 2. Nc3 a6 3. g3 b5 4. Bg2 11\n",
      "1. e4 Nf6 2. Nc3 d5 3. e5 Nfd7 4. d4 11\n",
      "1. c4 e5 2. Nc3 f5 3. d4 8\n",
      "1. c4 e5 2. Nc3 f5 3. d4 Nc6 4. Nf3 11\n",
      "1. d4 d5 2. Bf4 Nf6 3. e3 c6 4. Nf3 11\n",
      "1. c3 2\n",
      "1. c3 d5 2. f3 5\n",
      "1. c3 d5 2. f3 c6 3. Qa4 8\n",
      "1. c3 d5 2. f3 c6 3. Qa4 Nf6 4. Qh4 11\n",
      "1. Nc3 c5 2. e4 5\n",
      "1. Nc3 c5 2. e4 Nc6 3. Bb5 8\n",
      "1. Nc3 c5 2. e4 Nc6 3. Bb5 Nd4 4. Bc4 11\n"
     ]
    }
   ],
   "source": [
    "for key in w_dict:\n",
    "    if len(key) < 40:\n",
    "        print(key, len(key.split(' ')))"
   ]
  },
  {
   "cell_type": "code",
   "execution_count": 36,
   "metadata": {},
   "outputs": [
    {
     "data": {
      "text/plain": [
       "1260"
      ]
     },
     "execution_count": 36,
     "metadata": {},
     "output_type": "execute_result"
    }
   ],
   "source": [
    "move_count"
   ]
  },
  {
   "cell_type": "code",
   "execution_count": 30,
   "metadata": {},
   "outputs": [
    {
     "data": {
      "text/plain": [
       "{'1. b3 e5': 0.0,\n",
       " '1. b3 e5 2. Bb2 f6': 0.0,\n",
       " '1. b3 e5 2. Bb2 f6 3. e3 Nh6': 0.0,\n",
       " '1. b3 e5 2. Bb2 f6 3. e3 Nh6 4. Ne2 Be7': 0.0,\n",
       " '1. b3 e5 2. Bb2 f6 3. e3 Nh6 4. Ne2 Be7 5. f4 e4': 0.0,\n",
       " '1. b3 e5 2. Bb2 f6 3. e3 Nh6 4. Ne2 Be7 5. f4 e4 6. Nbc3 d5': 0.0,\n",
       " '1. b3 e5 2. Bb2 f6 3. e3 Nh6 4. Ne2 Be7 5. f4 e4 6. Nbc3 d5 7. Ng3 c6': 0.0,\n",
       " '1. b3 e5 2. Bb2 f6 3. e3 Nh6 4. Ne2 Be7 5. f4 e4 6. Nbc3 d5 7. Ng3 c6 8. Be2 O-O': 0.0,\n",
       " '1. b3 e5 2. Bb2 f6 3. e3 Nh6 4. Ne2 Be7 5. f4 e4 6. Nbc3 d5 7. Ng3 c6 8. Be2 O-O 9. O-O f5': 0.0,\n",
       " '1. b3 e5 2. Bb2 f6 3. e3 Nh6 4. Ne2 Be7 5. f4 e4 6. Nbc3 d5 7. Ng3 c6 8. Be2 O-O 9. O-O f5 10. Kh1 Bf6': 0.0,\n",
       " '1. b3 e5 2. Bb2 f6 3. e3 Nh6 4. Ne2 Be7 5. f4 e4 6. Nbc3 d5 7. Ng3 c6 8. Be2 O-O 9. O-O f5 10. Kh1 Bf6 11. Nh5 Be7': 0.0,\n",
       " '1. b3 e5 2. Bb2 f6 3. e3 Nh6 4. Ne2 Be7 5. f4 e4 6. Nbc3 d5 7. Ng3 c6 8. Be2 O-O 9. O-O f5 10. Kh1 Bf6 11. Nh5 Be7 12. Rg1 g6': 0.0,\n",
       " '1. b3 e5 2. Bb2 f6 3. e3 Nh6 4. Ne2 Be7 5. f4 e4 6. Nbc3 d5 7. Ng3 c6 8. Be2 O-O 9. O-O f5 10. Kh1 Bf6 11. Nh5 Be7 12. Rg1 g6 13. Ng3 Bf6': 0.0,\n",
       " '1. b3 e5 2. Bb2 f6 3. e3 Nh6 4. Ne2 Be7 5. f4 e4 6. Nbc3 d5 7. Ng3 c6 8. Be2 O-O 9. O-O f5 10. Kh1 Bf6 11. Nh5 Be7 12. Rg1 g6 13. Ng3 Bf6 14. d4 exd3': 0.0,\n",
       " '1. b3 e5 2. Bb2 f6 3. e3 Nh6 4. Ne2 Be7 5. f4 e4 6. Nbc3 d5 7. Ng3 c6 8. Be2 O-O 9. O-O f5 10. Kh1 Bf6 11. Nh5 Be7 12. Rg1 g6 13. Ng3 Bf6 14. d4 exd3 15. cxd3 d4': 0.0,\n",
       " '1. b3 e5 2. Bb2 f6 3. e3 Nh6 4. Ne2 Be7 5. f4 e4 6. Nbc3 d5 7. Ng3 c6 8. Be2 O-O 9. O-O f5 10. Kh1 Bf6 11. Nh5 Be7 12. Rg1 g6 13. Ng3 Bf6 14. d4 exd3 15. cxd3 d4 16. exd4 Bxd4': 0.0,\n",
       " '1. b3 e5 2. Bb2 f6 3. e3 Nh6 4. Ne2 Be7 5. f4 e4 6. Nbc3 d5 7. Ng3 c6 8. Be2 O-O 9. O-O f5 10. Kh1 Bf6 11. Nh5 Be7 12. Rg1 g6 13. Ng3 Bf6 14. d4 exd3 15. cxd3 d4 16. exd4 Bxd4 17. Rf1 Nd7': 0.0,\n",
       " '1. b3 e5 2. Bb2 f6 3. e3 Nh6 4. Ne2 Be7 5. f4 e4 6. Nbc3 d5 7. Ng3 c6 8. Be2 O-O 9. O-O f5 10. Kh1 Bf6 11. Nh5 Be7 12. Rg1 g6 13. Ng3 Bf6 14. d4 exd3 15. cxd3 d4 16. exd4 Bxd4 17. Rf1 Nd7 18. Qc2 Nf6': 0.0,\n",
       " '1. b3 e5 2. Bb2 f6 3. e3 Nh6 4. Ne2 Be7 5. f4 e4 6. Nbc3 d5 7. Ng3 c6 8. Be2 O-O 9. O-O f5 10. Kh1 Bf6 11. Nh5 Be7 12. Rg1 g6 13. Ng3 Bf6 14. d4 exd3 15. cxd3 d4 16. exd4 Bxd4 17. Rf1 Nd7 18. Qc2 Nf6 19. Na4 Rb8': 0.0,\n",
       " '1. b3 e5 2. Bb2 f6 3. e3 Nh6 4. Ne2 Be7 5. f4 e4 6. Nbc3 d5 7. Ng3 c6 8. Be2 O-O 9. O-O f5 10. Kh1 Bf6 11. Nh5 Be7 12. Rg1 g6 13. Ng3 Bf6 14. d4 exd3 15. cxd3 d4 16. exd4 Bxd4 17. Rf1 Nd7 18. Qc2 Nf6 19. Na4 Rb8 20. Qc4+ 1-0': 0.0,\n",
       " '1. b3': -0.689727463312369,\n",
       " '1. b3 e5 2. Bb2': -0.689727463312369,\n",
       " '1. b3 e5 2. Bb2 f6 3. e3': -0.689727463312369,\n",
       " '1. b3 e5 2. Bb2 f6 3. e3 Nh6 4. Ne2': -0.689727463312369,\n",
       " '1. b3 e5 2. Bb2 f6 3. e3 Nh6 4. Ne2 Be7 5. f4': -0.689727463312369,\n",
       " '1. b3 e5 2. Bb2 f6 3. e3 Nh6 4. Ne2 Be7 5. f4 e4 6. Nbc3': -0.689727463312369,\n",
       " '1. b3 e5 2. Bb2 f6 3. e3 Nh6 4. Ne2 Be7 5. f4 e4 6. Nbc3 d5 7. Ng3': -0.689727463312369,\n",
       " '1. b3 e5 2. Bb2 f6 3. e3 Nh6 4. Ne2 Be7 5. f4 e4 6. Nbc3 d5 7. Ng3 c6 8. Be2': -0.689727463312369,\n",
       " '1. b3 e5 2. Bb2 f6 3. e3 Nh6 4. Ne2 Be7 5. f4 e4 6. Nbc3 d5 7. Ng3 c6 8. Be2 O-O 9. O-O': -0.689727463312369,\n",
       " '1. b3 e5 2. Bb2 f6 3. e3 Nh6 4. Ne2 Be7 5. f4 e4 6. Nbc3 d5 7. Ng3 c6 8. Be2 O-O 9. O-O f5 10. Kh1': -0.689727463312369,\n",
       " '1. b3 e5 2. Bb2 f6 3. e3 Nh6 4. Ne2 Be7 5. f4 e4 6. Nbc3 d5 7. Ng3 c6 8. Be2 O-O 9. O-O f5 10. Kh1 Bf6 11. Nh5': -0.689727463312369,\n",
       " '1. b3 e5 2. Bb2 f6 3. e3 Nh6 4. Ne2 Be7 5. f4 e4 6. Nbc3 d5 7. Ng3 c6 8. Be2 O-O 9. O-O f5 10. Kh1 Bf6 11. Nh5 Be7 12. Rg1': -0.689727463312369,\n",
       " '1. b3 e5 2. Bb2 f6 3. e3 Nh6 4. Ne2 Be7 5. f4 e4 6. Nbc3 d5 7. Ng3 c6 8. Be2 O-O 9. O-O f5 10. Kh1 Bf6 11. Nh5 Be7 12. Rg1 g6 13. Ng3': -0.689727463312369,\n",
       " '1. b3 e5 2. Bb2 f6 3. e3 Nh6 4. Ne2 Be7 5. f4 e4 6. Nbc3 d5 7. Ng3 c6 8. Be2 O-O 9. O-O f5 10. Kh1 Bf6 11. Nh5 Be7 12. Rg1 g6 13. Ng3 Bf6 14. d4': -0.689727463312369,\n",
       " '1. b3 e5 2. Bb2 f6 3. e3 Nh6 4. Ne2 Be7 5. f4 e4 6. Nbc3 d5 7. Ng3 c6 8. Be2 O-O 9. O-O f5 10. Kh1 Bf6 11. Nh5 Be7 12. Rg1 g6 13. Ng3 Bf6 14. d4 exd3 15. cxd3': -0.689727463312369,\n",
       " '1. b3 e5 2. Bb2 f6 3. e3 Nh6 4. Ne2 Be7 5. f4 e4 6. Nbc3 d5 7. Ng3 c6 8. Be2 O-O 9. O-O f5 10. Kh1 Bf6 11. Nh5 Be7 12. Rg1 g6 13. Ng3 Bf6 14. d4 exd3 15. cxd3 d4 16. exd4': -0.689727463312369,\n",
       " '1. b3 e5 2. Bb2 f6 3. e3 Nh6 4. Ne2 Be7 5. f4 e4 6. Nbc3 d5 7. Ng3 c6 8. Be2 O-O 9. O-O f5 10. Kh1 Bf6 11. Nh5 Be7 12. Rg1 g6 13. Ng3 Bf6 14. d4 exd3 15. cxd3 d4 16. exd4 Bxd4 17. Rf1': -0.689727463312369,\n",
       " '1. b3 e5 2. Bb2 f6 3. e3 Nh6 4. Ne2 Be7 5. f4 e4 6. Nbc3 d5 7. Ng3 c6 8. Be2 O-O 9. O-O f5 10. Kh1 Bf6 11. Nh5 Be7 12. Rg1 g6 13. Ng3 Bf6 14. d4 exd3 15. cxd3 d4 16. exd4 Bxd4 17. Rf1 Nd7 18. Qc2': -0.689727463312369,\n",
       " '1. b3 e5 2. Bb2 f6 3. e3 Nh6 4. Ne2 Be7 5. f4 e4 6. Nbc3 d5 7. Ng3 c6 8. Be2 O-O 9. O-O f5 10. Kh1 Bf6 11. Nh5 Be7 12. Rg1 g6 13. Ng3 Bf6 14. d4 exd3 15. cxd3 d4 16. exd4 Bxd4 17. Rf1 Nd7 18. Qc2 Nf6 19. Na4': -0.689727463312369,\n",
       " '1. b3 e5 2. Bb2 f6 3. e3 Nh6 4. Ne2 Be7 5. f4 e4 6. Nbc3 d5 7. Ng3 c6 8. Be2 O-O 9. O-O f5 10. Kh1 Bf6 11. Nh5 Be7 12. Rg1 g6 13. Ng3 Bf6 14. d4 exd3 15. cxd3 d4 16. exd4 Bxd4 17. Rf1 Nd7 18. Qc2 Nf6 19. Na4 Rb8 20. Qc4+': -0.689727463312369}"
      ]
     },
     "execution_count": 30,
     "metadata": {},
     "output_type": "execute_result"
    }
   ],
   "source": [
    "ave_dict"
   ]
  },
  {
   "cell_type": "code",
   "execution_count": null,
   "metadata": {},
   "outputs": [],
   "source": []
  }
 ],
 "metadata": {
  "kernelspec": {
   "display_name": "Python 3",
   "language": "python",
   "name": "python3"
  },
  "language_info": {
   "codemirror_mode": {
    "name": "ipython",
    "version": 3
   },
   "file_extension": ".py",
   "mimetype": "text/x-python",
   "name": "python",
   "nbconvert_exporter": "python",
   "pygments_lexer": "ipython3",
   "version": "3.8.6"
  }
 },
 "nbformat": 4,
 "nbformat_minor": 4
}
